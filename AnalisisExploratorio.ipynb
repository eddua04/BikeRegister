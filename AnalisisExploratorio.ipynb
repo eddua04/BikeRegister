{
  "nbformat": 4,
  "nbformat_minor": 0,
  "metadata": {
    "colab": {
      "name": "AnalisisExploratorio.ipynb",
      "provenance": [],
      "collapsed_sections": []
    },
    "kernelspec": {
      "name": "python3",
      "display_name": "Python 3"
    },
    "language_info": {
      "name": "python"
    }
  },
  "cells": [
    {
      "cell_type": "code",
      "execution_count": null,
      "metadata": {
        "id": "nZ5aBFbxMGb7"
      },
      "outputs": [],
      "source": [
        "#IMPORTAR LIBRERIAS A USAR\n",
        "import os\n",
        "import pandas as pd\n",
        "import matplotlib.pyplot as plt"
      ]
    },
    {
      "cell_type": "code",
      "source": [
        "#LEER LOS DATOS DE ENTRENAMIENTO EN UNA VARIABLE\n",
        "df=pd.read_csv(\"train_set.csv\")"
      ],
      "metadata": {
        "colab": {
          "base_uri": "https://localhost:8080/"
        },
        "id": "gAW4EQndMQLY",
        "outputId": "98b7fbf8-1145-4222-a628-06a0d1fcd42c"
      },
      "execution_count": null,
      "outputs": [
        {
          "output_type": "stream",
          "name": "stderr",
          "text": [
            "/usr/local/lib/python3.7/dist-packages/IPython/core/interactiveshell.py:2882: DtypeWarning: Columns (8) have mixed types.Specify dtype option on import or set low_memory=False.\n",
            "  exec(code_obj, self.user_global_ns, self.user_ns)\n"
          ]
        }
      ]
    },
    {
      "cell_type": "code",
      "source": [
        "#EMPEZAR LA LIMPIEZA REMOVIENDO VALORES NO NUMERCOS DENTRO DE LA COLUMNA 'bike_id'\n",
        "df=df[pd.to_numeric(df['bike_id'], errors='coerce').notnull()]"
      ],
      "metadata": {
        "id": "AeejCLX0MQGN"
      },
      "execution_count": null,
      "outputs": []
    },
    {
      "cell_type": "code",
      "source": [
        "#CONVERTIR A VALORS NUMERICOS LAS SIGUIENTES COLUMNAS\n",
        "df['bike_id'] = pd.to_numeric(df['bike_id'])\n",
        "df['start_station'] = pd.to_numeric(df['start_station'])\n",
        "df['end_station'] = pd.to_numeric(df['end_station'])"
      ],
      "metadata": {
        "id": "2L5lgxj6MQEZ"
      },
      "execution_count": null,
      "outputs": []
    },
    {
      "cell_type": "code",
      "source": [
        "#Resetear los indices porque se genera una columna de nombre index\n",
        "df=df.reset_index()\n",
        "df=df.drop(['index'], axis=1)"
      ],
      "metadata": {
        "id": "_NoJbHcuMYTC"
      },
      "execution_count": null,
      "outputs": []
    },
    {
      "cell_type": "code",
      "source": [
        "#Guardar el data frame en otra variable\n",
        "dfNew=df\n",
        "\n",
        "#AGREGAR NUEVAS COLUMNAS SEPARANDO FECHAS Y HORAS EN DIFERENTES COLUMNAS\n",
        "dfNew['start_time'] = pd.to_datetime(dfNew['start_time'])\n",
        "dfNew['Date_start_time'] = pd.to_datetime(df['start_time']).dt.strftime('%d/%m/%Y')\n",
        "dfNew['Hour_start_time'] = dfNew['start_time'].dt.hour\n",
        "dfNew['Minute_start_time'] = pd.to_datetime(dfNew['start_time']).dt.minute\n",
        "\n",
        "dfNew['end_time'] = pd.to_datetime(dfNew['end_time'])\n",
        "dfNew['Date_end_time'] = pd.to_datetime(df['end_time']).dt.strftime('%d/%m/%Y')\n",
        "dfNew['Hour_end_time'] = dfNew['end_time'].dt.hour\n",
        "dfNew['Minute_end_time'] = pd.to_datetime(dfNew['end_time']).dt.minute"
      ],
      "metadata": {
        "id": "aQvYxYtrMc3d"
      },
      "execution_count": null,
      "outputs": []
    },
    {
      "cell_type": "code",
      "source": [
        "#HORAS MAS DEMANDANTES\n",
        "#EN LA GRAFICA DE ABAJO SE MUESTRAN LAS HORAS DONDE EL SERVICIO DE BICICLETAS ES MAS DEMANDANTE, SIENDO ENTRE 16 y 18 HORAS LA MAYOR DEMANDA\n",
        "hrs = [hr for hr, dfNew in dfNew.groupby('Hour_start_time')]\n",
        "\n",
        "conta = dfNew.pivot_table(columns=['Hour_start_time'], aggfunc='size')\n",
        "conta\n",
        "\n",
        "\n",
        "#plt.plot(hrs, dfNew.groupby(['Hour_start_time']).count()) no funciono, imprime 20 curvas no se porque\n",
        "plt.plot(hrs,conta)\n",
        "plt.xticks(hrs)\n",
        "plt.xlabel('Hours')\n",
        "plt.ylabel('Historic Number of Users')\n",
        "plt.grid()\n",
        "plt.show()"
      ],
      "metadata": {
        "colab": {
          "base_uri": "https://localhost:8080/",
          "height": 279
        },
        "id": "zn9W3qTiPLbm",
        "outputId": "f2344065-7c9a-4654-f24a-99e22201fa28"
      },
      "execution_count": null,
      "outputs": [
        {
          "output_type": "display_data",
          "data": {
            "text/plain": [
              "<Figure size 432x288 with 1 Axes>"
            ],
            "image/png": "[encoded data removed]"
          },
          "metadata": {
            "needs_background": "light"
          }
        }
      ]
    },
    {
      "cell_type": "code",
      "source": [
        "#TIPOS DE PASES MAS DEMANDANTES\n",
        "#LA GRAFICA MUESTRA EL TIPO DE PASE PARA CADA PERSONA, DONDE VEMOS QUE EL PASE MENSUAL ES EL MAS POPULAR, MIENTRAS QUE EL PASE DE TESTING ES EL QUE \n",
        "#ES MENOS USADO \n",
        "\n",
        "passtypes = [passtype for passtype, dfNew in dfNew.groupby('passholder_type')]\n",
        "\n",
        "passconta = dfNew.pivot_table(columns=['passholder_type'], aggfunc='size')\n",
        "\n",
        "plt.bar(passtypes,passconta)\n",
        "plt.xticks(passtypes)\n",
        "plt.ylabel('Counter of Passes')\n",
        "plt.xlabel('Passholder_type')\n",
        "plt.xticks(passtypes, rotation='vertical', size=10)\n",
        "plt.show()"
      ],
      "metadata": {
        "colab": {
          "base_uri": "https://localhost:8080/",
          "height": 339
        },
        "id": "U1H5kIUjPO-2",
        "outputId": "b417808b-68b1-4a5f-dbcc-4c37460f1baf"
      },
      "execution_count": null,
      "outputs": [
        {
          "output_type": "display_data",
          "data": {
            "text/plain": [
              "<Figure size 432x288 with 1 Axes>"
            ],
            "image/png": "[encoded data removed]"
          },
          "metadata": {
            "needs_background": "light"
          }
        }
      ]
    },
    {
      "cell_type": "code",
      "source": [
        "#LA TABLA DE ABAJO MUESTRA LAS ESTACIONES MAS USADAS\n",
        "\n",
        "startstationconta = dfNew.pivot_table(columns=['start_station'], aggfunc='size')\n",
        "stationfreq=startstationconta.sort_values(ascending=False)\n",
        "\n",
        "stationfreq.head(10)"
      ],
      "metadata": {
        "colab": {
          "base_uri": "https://localhost:8080/"
        },
        "id": "W28-ohCJPSrU",
        "outputId": "19710a2d-c304-4bea-942e-dd0d3f3d4a92"
      },
      "execution_count": null,
      "outputs": [
        {
          "output_type": "execute_result",
          "data": {
            "text/plain": [
              "start_station\n",
              "3005    28490\n",
              "3030    20280\n",
              "3014    18739\n",
              "4214    17465\n",
              "3031    17069\n",
              "3035    15381\n",
              "3064    14733\n",
              "3082    13667\n",
              "4210    13378\n",
              "3042    12667\n",
              "dtype: int64"
            ]
          },
          "metadata": {},
          "execution_count": 11
        }
      ]
    },
    {
      "cell_type": "markdown",
      "source": [
        "**PODRIA OBSERVARSE QUE LA VARABLE DE TIPO DE PASE USADO POR CADA PERSONA PUDIERA ESTAR RELACIONADO ENTRE LAS VARIABLES DE HORA CON MAS DEMANDA EN EL SERVICIO, LAS ESTACIONES QUE SON MAS USADAS, ASI COMO CON OTRAS VARIABLES INCLUIDAS EN LA BASE DE DATOS**"
      ],
      "metadata": {
        "id": "wva6vNZRIPo2"
      }
    },
    {
      "cell_type": "code",
      "source": [
        "#GUARDAR EL DATA SET DESPUES DE LA LIMPIEZA\n",
        "dfNew.to_csv(\"DataCleaned.csv\") "
      ],
      "metadata": {
        "id": "f5XWRMqKQnWg"
      },
      "execution_count": null,
      "outputs": []
    }
  ]
}
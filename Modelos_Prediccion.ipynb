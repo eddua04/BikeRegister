{
  "nbformat": 4,
  "nbformat_minor": 0,
  "metadata": {
    "colab": {
      "name": "Modelos_Prediccion.ipynb",
      "provenance": [],
      "collapsed_sections": []
    },
    "kernelspec": {
      "name": "python3",
      "display_name": "Python 3"
    },
    "language_info": {
      "name": "python"
    },
    "gpuClass": "standard"
  },
  "cells": [
    {
      "cell_type": "code",
      "execution_count": 1,
      "metadata": {
        "id": "hncafW_dT7dx",
        "colab": {
          "base_uri": "https://localhost:8080/"
        },
        "outputId": "90eda014-8deb-40c1-c9b9-bfa34de0af04"
      },
      "outputs": [
        {
          "output_type": "execute_result",
          "data": {
            "text/plain": [
              "Index(['trip_id', 'duration', 'start_time', 'end_time', 'start_lat',\n",
              "       'start_lon', 'end_lat', 'end_lon', 'bike_id', 'plan_duration',\n",
              "       'trip_route_category', 'passholder_type', 'start_station',\n",
              "       'end_station', 'Date_start_time', 'Hour_start_time',\n",
              "       'Minute_start_time', 'Date_end_time', 'Hour_end_time',\n",
              "       'Minute_end_time'],\n",
              "      dtype='object')"
            ]
          },
          "metadata": {},
          "execution_count": 1
        }
      ],
      "source": [
        "#IMPORTAR LIBRERIAS A USAR\n",
        "\n",
        "import pandas as pd\n",
        "import matplotlib.pyplot as plt\n",
        "import numpy as np\n",
        "\n",
        "df=pd.read_csv('DataCleaned.csv')\n",
        "df=df.drop(['Unnamed: 0'], axis=1)\n",
        "df.columns"
      ]
    },
    {
      "cell_type": "code",
      "source": [
        "#GENERAR OTRA VARIABLE PARA LA BASE DE DATOS\n",
        "df_model = df[ ['passholder_type','duration','trip_route_category','start_station','end_station','Hour_start_time','Hour_end_time'] ]"
      ],
      "metadata": {
        "id": "-tU1VwL4mcdB"
      },
      "execution_count": 2,
      "outputs": []
    },
    {
      "cell_type": "code",
      "source": [
        "#SUSTITUIR LOS TIPOS DE PASE POR VALORES NUMERICOS PARA ENTRENAR EL MODELO\n",
        "df_model['passholder_type']=df_model['passholder_type'].replace({'Annual Pass': 1})\n",
        "df_model['passholder_type']=df_model['passholder_type'].replace({'Flex Pass': 2})\n",
        "df_model['passholder_type']=df_model['passholder_type'].replace({'Monthly Pass': 3})\n",
        "df_model['passholder_type']=df_model['passholder_type'].replace({'One Day Pass': 4})\n",
        "df_model['passholder_type']=df_model['passholder_type'].replace({'Testing': 5})\n",
        "df_model['passholder_type']=df_model['passholder_type'].replace({'Walk-up': 6})"
      ],
      "metadata": {
        "id": "1Iyl2pbJma3Y"
      },
      "execution_count": null,
      "outputs": []
    },
    {
      "cell_type": "code",
      "source": [
        "#OMITIR LOS VALORES NAN DE LA VARIABLE df_model\n",
        "df_model = df_model.dropna()\n",
        "print(df_model['passholder_type'].unique())"
      ],
      "metadata": {
        "colab": {
          "base_uri": "https://localhost:8080/"
        },
        "id": "tLKlggXxmkZ_",
        "outputId": "065704ab-753b-4e14-f4e9-300dbba29968"
      },
      "execution_count": 4,
      "outputs": [
        {
          "output_type": "stream",
          "name": "stdout",
          "text": [
            "[6. 3. 4. 1. 2. 5.]\n"
          ]
        }
      ]
    },
    {
      "cell_type": "code",
      "source": [
        "#Resetear los indices\n",
        "df_model=df_model.reset_index()\n",
        "df_model=df_model.drop(['index'], axis=1)"
      ],
      "metadata": {
        "id": "LYlxhc5fmq0t"
      },
      "execution_count": 5,
      "outputs": []
    },
    {
      "cell_type": "code",
      "source": [
        "#IMPORTAR LIBRERIAS PARA CONSTRUIR LOS MODELOS\n",
        "from sklearn.model_selection import train_test_split\n",
        "from sklearn.model_selection import cross_val_score\n",
        "\n",
        "\n",
        "#DEFINIR LAS VARIABLES x e y (tanto de entrenamiento como prueba) EN BASE A LA BASE DE DATOS\n",
        "#x SON TODAS LAS VARIABLES A EXCPECION DE LA COLUMNA de 'passholder_type'\n",
        "#y CORRESPONDE A LA COLUMNA 'passholder_type'\n",
        "#EL SET DE DATOS SE DIVIDIO EN 80% PARA ENTRENAMIENTO Y EL 20% PARA PRUEBA\n",
        "\n",
        "X=df_model.drop('passholder_type',axis=1)\n",
        "X = pd.get_dummies(X)\n",
        "X['trip_route_category_One Way'] = X['trip_route_category_One Way'].astype(float)\n",
        "X['trip_route_category_Round Trip'] = X['trip_route_category_Round Trip'].astype(float)\n",
        "y=df_model.passholder_type\n",
        "\n",
        "X_train, X_test, y_train, y_test = train_test_split(X, y, test_size=0.2, random_state=42)"
      ],
      "metadata": {
        "id": "3OqGNhhXoDed"
      },
      "execution_count": 6,
      "outputs": []
    },
    {
      "cell_type": "code",
      "source": [
        "#CONSTRUCCION MODELO DE LINEAR REGRESSION\n",
        "\n",
        "from sklearn.linear_model import LinearRegression, Lasso\n",
        "\n",
        "\n",
        "lm=LinearRegression()\n",
        "lm.fit(X_train,y_train)\n",
        "np.mean(cross_val_score(lm,X_train,y_train, scoring='neg_mean_absolute_error', cv=3))"
      ],
      "metadata": {
        "colab": {
          "base_uri": "https://localhost:8080/"
        },
        "id": "ES_RpijfoJZl",
        "outputId": "4bb7fb20-b75d-46f5-bfc7-21e30f431778"
      },
      "execution_count": null,
      "outputs": [
        {
          "output_type": "execute_result",
          "data": {
            "text/plain": [
              "-1.1664485366256407"
            ]
          },
          "metadata": {},
          "execution_count": 7
        }
      ]
    },
    {
      "cell_type": "code",
      "source": [
        "#CONSTRUCCION MODELO DE LASSO REGRESSION\n",
        "lm_l=Lasso() \n",
        "lm_l.fit(X_train,y_train)\n",
        "np.mean(cross_val_score(lm_l,X_train,y_train, scoring='neg_mean_absolute_error', cv=3))"
      ],
      "metadata": {
        "colab": {
          "base_uri": "https://localhost:8080/"
        },
        "id": "JLi9l23JoMw2",
        "outputId": "c740e5e8-caae-4f30-b53f-325a11a8b18b"
      },
      "execution_count": null,
      "outputs": [
        {
          "output_type": "execute_result",
          "data": {
            "text/plain": [
              "-1.2247615878609308"
            ]
          },
          "metadata": {},
          "execution_count": 8
        }
      ]
    },
    {
      "cell_type": "code",
      "source": [
        "#CONSTRUCCION MODELO DE RANDOM FOREST CLASSIFICATION\n",
        "from sklearn.ensemble import RandomForestClassifier\n",
        "rf=RandomForestClassifier()\n",
        "rf.fit(X_train,y_train)\n",
        "np.mean(cross_val_score(rf,X_train,y_train, scoring='neg_mean_absolute_error', cv=3))"
      ],
      "metadata": {
        "id": "G6NgxtfZoTim",
        "colab": {
          "base_uri": "https://localhost:8080/"
        },
        "outputId": "19ab0e2a-d31e-4318-e203-5a13bdb70e60"
      },
      "execution_count": 7,
      "outputs": [
        {
          "output_type": "execute_result",
          "data": {
            "text/plain": [
              "-0.8100031366223058"
            ]
          },
          "metadata": {},
          "execution_count": 7
        }
      ]
    },
    {
      "cell_type": "code",
      "source": [
        "#PREDECIR LOS RESULTADOS USANDO EL SET DE PRUEBA\n",
        "pred_lm=lm.predict(X_test)\n",
        "pred_lml=lm_l.predict(X_test)\n",
        "pred_rf=rf.predict(X_test)"
      ],
      "metadata": {
        "id": "f6fbT7AAoWN4"
      },
      "execution_count": null,
      "outputs": []
    },
    {
      "cell_type": "code",
      "source": [
        "#CALCULAR LOS ERRORES\n",
        "from sklearn.metrics import mean_absolute_error\n",
        "er_lm=mean_absolute_error(y_test,pred_lm)\n",
        "er_lml=mean_absolute_error(y_test,pred_lml)\n",
        "er_rf=mean_absolute_error(y_test,pred_rf)"
      ],
      "metadata": {
        "id": "BGbmVJW2oa_e"
      },
      "execution_count": null,
      "outputs": []
    },
    {
      "cell_type": "code",
      "source": [
        "print(er_lm)\n",
        "print(er_lml)\n",
        "print(er_rf)"
      ],
      "metadata": {
        "colab": {
          "base_uri": "https://localhost:8080/"
        },
        "id": "4lFGMK2soct9",
        "outputId": "69283f70-b0f4-4969-cf7d-c645cefea558"
      },
      "execution_count": null,
      "outputs": [
        {
          "output_type": "stream",
          "name": "stdout",
          "text": [
            "1.1669531305909169\n",
            "1.223995500318972\n",
            "0.8018382300225119\n"
          ]
        }
      ]
    },
    {
      "cell_type": "code",
      "source": [
        "#LEER Y USAR EL ARCHIVO 'test_set.csv' PARA PREDECIR EL TIPO DE PASE PARA CADA CASO\n",
        "#DE IGUAL MANERA OMITIR TODOS LOS VALORES NAN y VALORES NO NUMERICOS EN LA COLUMNA 'bike_id'\n",
        "df_test=pd.read_csv('test_set.csv')\n",
        "df_test = df_test.dropna()\n",
        "df_test=df_test[pd.to_numeric(df_test['bike_id'], errors='coerce').notnull()]\n",
        "df_test"
      ],
      "metadata": {
        "colab": {
          "base_uri": "https://localhost:8080/",
          "height": 696
        },
        "id": "cIh4QHi4oxUT",
        "outputId": "e806410b-4e02-45f2-d8d1-538b7c2fe471"
      },
      "execution_count": null,
      "outputs": [
        {
          "output_type": "stream",
          "name": "stderr",
          "text": [
            "/usr/local/lib/python3.7/dist-packages/IPython/core/interactiveshell.py:2882: DtypeWarning: Columns (8) have mixed types.Specify dtype option on import or set low_memory=False.\n",
            "  exec(code_obj, self.user_global_ns, self.user_ns)\n"
          ]
        },
        {
          "output_type": "execute_result",
          "data": {
            "text/plain": [
              "          trip_id  duration        start_time          end_time  start_lat  \\\n",
              "0        17059130        12     1/1/2017 0:24     1/1/2017 0:36  34.058319   \n",
              "1        17059129        17     1/1/2017 0:28     1/1/2017 0:45  34.049980   \n",
              "2        17059126        20     1/1/2017 0:39     1/1/2017 0:59  34.063389   \n",
              "3        17059125        12     1/1/2017 0:43     1/1/2017 0:55  34.048851   \n",
              "4        17061379        48     1/1/2017 0:56     1/1/2017 1:44  34.049198   \n",
              "...           ...       ...               ...               ...        ...   \n",
              "569881  179408277        19  12/31/2021 23:29  12/31/2021 23:48  34.040989   \n",
              "569882  179408276         8  12/31/2021 23:40  12/31/2021 23:48  34.044701   \n",
              "569883  179409877        43  12/31/2021 23:47     1/1/2022 0:30  34.044701   \n",
              "569884  179409876        42  12/31/2021 23:48     1/1/2022 0:30  34.044701   \n",
              "569885  179492474      1440  12/31/2021 23:48    1/2/2022 12:56  34.051941   \n",
              "\n",
              "         start_lon    end_lat     end_lon bike_id trip_route_category  \\\n",
              "0      -118.246094  34.058319 -118.246094    6351          Round Trip   \n",
              "1      -118.247162  34.043732 -118.260139    5836             One Way   \n",
              "2      -118.236160  34.044159 -118.251579    6529             One Way   \n",
              "3      -118.246422  34.050140 -118.233238    6029             One Way   \n",
              "4      -118.252831  34.049198 -118.252831    6680          Round Trip   \n",
              "...            ...        ...         ...     ...                 ...   \n",
              "569881 -118.255798  34.041130 -118.267982   14027             One Way   \n",
              "569882 -118.252441  34.051941 -118.243530   20006             One Way   \n",
              "569883 -118.252441  34.044701 -118.252441   16214          Round Trip   \n",
              "569884 -118.252441  34.044701 -118.252441   13336          Round Trip   \n",
              "569885 -118.243530  34.047440 -118.247940    6117             One Way   \n",
              "\n",
              "        start_station  end_station  \n",
              "0                3028         3028  \n",
              "1                3027         3018  \n",
              "2                3066         3055  \n",
              "3                3029         3079  \n",
              "4                3063         3063  \n",
              "...               ...          ...  \n",
              "569881           3033         3011  \n",
              "569882           3031         3030  \n",
              "569883           3031         3031  \n",
              "569884           3031         3031  \n",
              "569885           3030         4491  \n",
              "\n",
              "[552408 rows x 12 columns]"
            ],
            "text/html": [
              "\n",
              "  <div id=\"df-4981d092-1c73-4c7c-8df3-c216879462c6\">\n",
              "    <div class=\"colab-df-container\">\n",
              "      <div>\n",
              "<style scoped>\n",
              "    .dataframe tbody tr th:only-of-type {\n",
              "        vertical-align: middle;\n",
              "    }\n",
              "\n",
              "    .dataframe tbody tr th {\n",
              "        vertical-align: top;\n",
              "    }\n",
              "\n",
              "    .dataframe thead th {\n",
              "        text-align: right;\n",
              "    }\n",
              "</style>\n",
              "<table border=\"1\" class=\"dataframe\">\n",
              "  <thead>\n",
              "    <tr style=\"text-align: right;\">\n",
              "      <th></th>\n",
              "      <th>trip_id</th>\n",
              "      <th>duration</th>\n",
              "      <th>start_time</th>\n",
              "      <th>end_time</th>\n",
              "      <th>start_lat</th>\n",
              "      <th>start_lon</th>\n",
              "      <th>end_lat</th>\n",
              "      <th>end_lon</th>\n",
              "      <th>bike_id</th>\n",
              "      <th>trip_route_category</th>\n",
              "      <th>start_station</th>\n",
              "      <th>end_station</th>\n",
              "    </tr>\n",
              "  </thead>\n",
              "  <tbody>\n",
              "    <tr>\n",
              "      <th>0</th>\n",
              "      <td>17059130</td>\n",
              "      <td>12</td>\n",
              "      <td>1/1/2017 0:24</td>\n",
              "      <td>1/1/2017 0:36</td>\n",
              "      <td>34.058319</td>\n",
              "      <td>-118.246094</td>\n",
              "      <td>34.058319</td>\n",
              "      <td>-118.246094</td>\n",
              "      <td>6351</td>\n",
              "      <td>Round Trip</td>\n",
              "      <td>3028</td>\n",
              "      <td>3028</td>\n",
              "    </tr>\n",
              "    <tr>\n",
              "      <th>1</th>\n",
              "      <td>17059129</td>\n",
              "      <td>17</td>\n",
              "      <td>1/1/2017 0:28</td>\n",
              "      <td>1/1/2017 0:45</td>\n",
              "      <td>34.049980</td>\n",
              "      <td>-118.247162</td>\n",
              "      <td>34.043732</td>\n",
              "      <td>-118.260139</td>\n",
              "      <td>5836</td>\n",
              "      <td>One Way</td>\n",
              "      <td>3027</td>\n",
              "      <td>3018</td>\n",
              "    </tr>\n",
              "    <tr>\n",
              "      <th>2</th>\n",
              "      <td>17059126</td>\n",
              "      <td>20</td>\n",
              "      <td>1/1/2017 0:39</td>\n",
              "      <td>1/1/2017 0:59</td>\n",
              "      <td>34.063389</td>\n",
              "      <td>-118.236160</td>\n",
              "      <td>34.044159</td>\n",
              "      <td>-118.251579</td>\n",
              "      <td>6529</td>\n",
              "      <td>One Way</td>\n",
              "      <td>3066</td>\n",
              "      <td>3055</td>\n",
              "    </tr>\n",
              "    <tr>\n",
              "      <th>3</th>\n",
              "      <td>17059125</td>\n",
              "      <td>12</td>\n",
              "      <td>1/1/2017 0:43</td>\n",
              "      <td>1/1/2017 0:55</td>\n",
              "      <td>34.048851</td>\n",
              "      <td>-118.246422</td>\n",
              "      <td>34.050140</td>\n",
              "      <td>-118.233238</td>\n",
              "      <td>6029</td>\n",
              "      <td>One Way</td>\n",
              "      <td>3029</td>\n",
              "      <td>3079</td>\n",
              "    </tr>\n",
              "    <tr>\n",
              "      <th>4</th>\n",
              "      <td>17061379</td>\n",
              "      <td>48</td>\n",
              "      <td>1/1/2017 0:56</td>\n",
              "      <td>1/1/2017 1:44</td>\n",
              "      <td>34.049198</td>\n",
              "      <td>-118.252831</td>\n",
              "      <td>34.049198</td>\n",
              "      <td>-118.252831</td>\n",
              "      <td>6680</td>\n",
              "      <td>Round Trip</td>\n",
              "      <td>3063</td>\n",
              "      <td>3063</td>\n",
              "    </tr>\n",
              "    <tr>\n",
              "      <th>...</th>\n",
              "      <td>...</td>\n",
              "      <td>...</td>\n",
              "      <td>...</td>\n",
              "      <td>...</td>\n",
              "      <td>...</td>\n",
              "      <td>...</td>\n",
              "      <td>...</td>\n",
              "      <td>...</td>\n",
              "      <td>...</td>\n",
              "      <td>...</td>\n",
              "      <td>...</td>\n",
              "      <td>...</td>\n",
              "    </tr>\n",
              "    <tr>\n",
              "      <th>569881</th>\n",
              "      <td>179408277</td>\n",
              "      <td>19</td>\n",
              "      <td>12/31/2021 23:29</td>\n",
              "      <td>12/31/2021 23:48</td>\n",
              "      <td>34.040989</td>\n",
              "      <td>-118.255798</td>\n",
              "      <td>34.041130</td>\n",
              "      <td>-118.267982</td>\n",
              "      <td>14027</td>\n",
              "      <td>One Way</td>\n",
              "      <td>3033</td>\n",
              "      <td>3011</td>\n",
              "    </tr>\n",
              "    <tr>\n",
              "      <th>569882</th>\n",
              "      <td>179408276</td>\n",
              "      <td>8</td>\n",
              "      <td>12/31/2021 23:40</td>\n",
              "      <td>12/31/2021 23:48</td>\n",
              "      <td>34.044701</td>\n",
              "      <td>-118.252441</td>\n",
              "      <td>34.051941</td>\n",
              "      <td>-118.243530</td>\n",
              "      <td>20006</td>\n",
              "      <td>One Way</td>\n",
              "      <td>3031</td>\n",
              "      <td>3030</td>\n",
              "    </tr>\n",
              "    <tr>\n",
              "      <th>569883</th>\n",
              "      <td>179409877</td>\n",
              "      <td>43</td>\n",
              "      <td>12/31/2021 23:47</td>\n",
              "      <td>1/1/2022 0:30</td>\n",
              "      <td>34.044701</td>\n",
              "      <td>-118.252441</td>\n",
              "      <td>34.044701</td>\n",
              "      <td>-118.252441</td>\n",
              "      <td>16214</td>\n",
              "      <td>Round Trip</td>\n",
              "      <td>3031</td>\n",
              "      <td>3031</td>\n",
              "    </tr>\n",
              "    <tr>\n",
              "      <th>569884</th>\n",
              "      <td>179409876</td>\n",
              "      <td>42</td>\n",
              "      <td>12/31/2021 23:48</td>\n",
              "      <td>1/1/2022 0:30</td>\n",
              "      <td>34.044701</td>\n",
              "      <td>-118.252441</td>\n",
              "      <td>34.044701</td>\n",
              "      <td>-118.252441</td>\n",
              "      <td>13336</td>\n",
              "      <td>Round Trip</td>\n",
              "      <td>3031</td>\n",
              "      <td>3031</td>\n",
              "    </tr>\n",
              "    <tr>\n",
              "      <th>569885</th>\n",
              "      <td>179492474</td>\n",
              "      <td>1440</td>\n",
              "      <td>12/31/2021 23:48</td>\n",
              "      <td>1/2/2022 12:56</td>\n",
              "      <td>34.051941</td>\n",
              "      <td>-118.243530</td>\n",
              "      <td>34.047440</td>\n",
              "      <td>-118.247940</td>\n",
              "      <td>6117</td>\n",
              "      <td>One Way</td>\n",
              "      <td>3030</td>\n",
              "      <td>4491</td>\n",
              "    </tr>\n",
              "  </tbody>\n",
              "</table>\n",
              "<p>552408 rows × 12 columns</p>\n",
              "</div>\n",
              "      <button class=\"colab-df-convert\" onclick=\"convertToInteractive('df-4981d092-1c73-4c7c-8df3-c216879462c6')\"\n",
              "              title=\"Convert this dataframe to an interactive table.\"\n",
              "              style=\"display:none;\">\n",
              "        \n",
              "  <svg xmlns=\"http://www.w3.org/2000/svg\" height=\"24px\"viewBox=\"0 0 24 24\"\n",
              "       width=\"24px\">\n",
              "    <path d=\"M0 0h24v24H0V0z\" fill=\"none\"/>\n",
              "    <path d=\"M18.56 5.44l.94 2.06.94-2.06 2.06-.94-2.06-.94-.94-2.06-.94 2.06-2.06.94zm-11 1L8.5 8.5l.94-2.06 2.06-.94-2.06-.94L8.5 2.5l-.94 2.06-2.06.94zm10 10l.94 2.06.94-2.06 2.06-.94-2.06-.94-.94-2.06-.94 2.06-2.06.94z\"/><path d=\"M17.41 7.96l-1.37-1.37c-.4-.4-.92-.59-1.43-.59-.52 0-1.04.2-1.43.59L10.3 9.45l-7.72 7.72c-.78.78-.78 2.05 0 2.83L4 21.41c.39.39.9.59 1.41.59.51 0 1.02-.2 1.41-.59l7.78-7.78 2.81-2.81c.8-.78.8-2.07 0-2.86zM5.41 20L4 18.59l7.72-7.72 1.47 1.35L5.41 20z\"/>\n",
              "  </svg>\n",
              "      </button>\n",
              "      \n",
              "  <style>\n",
              "    .colab-df-container {\n",
              "      display:flex;\n",
              "      flex-wrap:wrap;\n",
              "      gap: 12px;\n",
              "    }\n",
              "\n",
              "    .colab-df-convert {\n",
              "      background-color: #E8F0FE;\n",
              "      border: none;\n",
              "      border-radius: 50%;\n",
              "      cursor: pointer;\n",
              "      display: none;\n",
              "      fill: #1967D2;\n",
              "      height: 32px;\n",
              "      padding: 0 0 0 0;\n",
              "      width: 32px;\n",
              "    }\n",
              "\n",
              "    .colab-df-convert:hover {\n",
              "      background-color: #E2EBFA;\n",
              "      box-shadow: 0px 1px 2px rgba(60, 64, 67, 0.3), 0px 1px 3px 1px rgba(60, 64, 67, 0.15);\n",
              "      fill: #174EA6;\n",
              "    }\n",
              "\n",
              "    [theme=dark] .colab-df-convert {\n",
              "      background-color: #3B4455;\n",
              "      fill: #D2E3FC;\n",
              "    }\n",
              "\n",
              "    [theme=dark] .colab-df-convert:hover {\n",
              "      background-color: #434B5C;\n",
              "      box-shadow: 0px 1px 3px 1px rgba(0, 0, 0, 0.15);\n",
              "      filter: drop-shadow(0px 1px 2px rgba(0, 0, 0, 0.3));\n",
              "      fill: #FFFFFF;\n",
              "    }\n",
              "  </style>\n",
              "\n",
              "      <script>\n",
              "        const buttonEl =\n",
              "          document.querySelector('#df-4981d092-1c73-4c7c-8df3-c216879462c6 button.colab-df-convert');\n",
              "        buttonEl.style.display =\n",
              "          google.colab.kernel.accessAllowed ? 'block' : 'none';\n",
              "\n",
              "        async function convertToInteractive(key) {\n",
              "          const element = document.querySelector('#df-4981d092-1c73-4c7c-8df3-c216879462c6');\n",
              "          const dataTable =\n",
              "            await google.colab.kernel.invokeFunction('convertToInteractive',\n",
              "                                                     [key], {});\n",
              "          if (!dataTable) return;\n",
              "\n",
              "          const docLinkHtml = 'Like what you see? Visit the ' +\n",
              "            '<a target=\"_blank\" href=https://colab.research.google.com/notebooks/data_table.ipynb>data table notebook</a>'\n",
              "            + ' to learn more about interactive tables.';\n",
              "          element.innerHTML = '';\n",
              "          dataTable['output_type'] = 'display_data';\n",
              "          await google.colab.output.renderOutput(dataTable, element);\n",
              "          const docLink = document.createElement('div');\n",
              "          docLink.innerHTML = docLinkHtml;\n",
              "          element.appendChild(docLink);\n",
              "        }\n",
              "      </script>\n",
              "    </div>\n",
              "  </div>\n",
              "  "
            ]
          },
          "metadata": {},
          "execution_count": 19
        }
      ]
    },
    {
      "cell_type": "code",
      "source": [
        "#CONVERIR LA COLUMNA 'bike_id' A VALORES NUMERICOS\n",
        "df_test['bike_id'] = pd.to_numeric(df_test['bike_id'])"
      ],
      "metadata": {
        "id": "j2H4Sa0MpDRj"
      },
      "execution_count": null,
      "outputs": []
    },
    {
      "cell_type": "code",
      "source": [
        "#RESETEAR LOS INDICES\n",
        "df_test=df_test.reset_index()\n",
        "df_test=df_test.drop(['index'], axis=1)"
      ],
      "metadata": {
        "id": "c-7F-lftpZHy"
      },
      "execution_count": null,
      "outputs": []
    },
    {
      "cell_type": "code",
      "source": [
        "#AGREGAR NUEVAS COLUMNAS SEPARANDO FECHAS Y HORAS EN DIFERENTES COLUMNAS\n",
        "\n",
        "df_test['start_time'] = pd.to_datetime(df_test['start_time'])\n",
        "df_test['Date_start_time'] = pd.to_datetime(df_test['start_time']).dt.strftime('%d/%m/%Y')\n",
        "df_test['Hour_start_time'] = df_test['start_time'].dt.hour\n",
        "df_test['Minute_start_time'] = pd.to_datetime(df_test['start_time']).dt.minute\n",
        "\n",
        "df_test['end_time'] = pd.to_datetime(df_test['end_time'])\n",
        "df_test['Date_end_time'] = pd.to_datetime(df_test['end_time']).dt.strftime('%d/%m/%Y')\n",
        "df_test['Hour_end_time'] = df_test['end_time'].dt.hour\n",
        "df_test['Minute_end_time'] = pd.to_datetime(df_test['end_time']).dt.minute"
      ],
      "metadata": {
        "id": "v1jQk6xQpcHW"
      },
      "execution_count": null,
      "outputs": []
    },
    {
      "cell_type": "code",
      "source": [
        "#IMPRIMIR COLUMNAS DE LA BASE DE DATOS\n",
        "df_test.columns"
      ],
      "metadata": {
        "colab": {
          "base_uri": "https://localhost:8080/"
        },
        "id": "0aGUBllupjY4",
        "outputId": "ed989913-88fe-4b1b-e911-9750f72fc935"
      },
      "execution_count": null,
      "outputs": [
        {
          "output_type": "execute_result",
          "data": {
            "text/plain": [
              "Index(['trip_id', 'duration', 'start_time', 'end_time', 'start_lat',\n",
              "       'start_lon', 'end_lat', 'end_lon', 'bike_id', 'trip_route_category',\n",
              "       'start_station', 'end_station', 'Date_start_time', 'Hour_start_time',\n",
              "       'Minute_start_time', 'Date_end_time', 'Hour_end_time',\n",
              "       'Minute_end_time'],\n",
              "      dtype='object')"
            ]
          },
          "metadata": {},
          "execution_count": 23
        }
      ]
    },
    {
      "cell_type": "code",
      "source": [
        "#GENERAR UNA BASE DE DATOS PARA SER USADA POR EL MODELO SIGUIENDO LA MISMA NOMENCLATURA COMO SE MUESTRA ABAJO\n",
        "df_testM = df_test[ ['duration','trip_route_category','start_station','end_station','Hour_start_time','Hour_end_time'] ]"
      ],
      "metadata": {
        "id": "uVJJxjMGplom"
      },
      "execution_count": null,
      "outputs": []
    },
    {
      "cell_type": "code",
      "source": [
        "#SEPARAR LOS DATOS DE 'trip_route_category' EN DOS COLUMNAS, CORRESPNDIENTES A 'One Way' Y 'Round Trip'\n",
        "df_testM= pd.get_dummies(df_testM)\n",
        "df_testM"
      ],
      "metadata": {
        "colab": {
          "base_uri": "https://localhost:8080/",
          "height": 505
        },
        "id": "MwXSUQGfpnVx",
        "outputId": "f9f9df40-9ff7-4264-9674-6ad54fbf2bc6"
      },
      "execution_count": null,
      "outputs": [
        {
          "output_type": "execute_result",
          "data": {
            "text/plain": [
              "        duration  start_station  end_station  Hour_start_time  Hour_end_time  \\\n",
              "0             12           3028         3028                0              0   \n",
              "1             17           3027         3018                0              0   \n",
              "2             20           3066         3055                0              0   \n",
              "3             12           3029         3079                0              0   \n",
              "4             48           3063         3063                0              1   \n",
              "...          ...            ...          ...              ...            ...   \n",
              "552403        19           3033         3011               23             23   \n",
              "552404         8           3031         3030               23             23   \n",
              "552405        43           3031         3031               23              0   \n",
              "552406        42           3031         3031               23              0   \n",
              "552407      1440           3030         4491               23             12   \n",
              "\n",
              "        trip_route_category_One Way  trip_route_category_Round Trip  \n",
              "0                                 0                               1  \n",
              "1                                 1                               0  \n",
              "2                                 1                               0  \n",
              "3                                 1                               0  \n",
              "4                                 0                               1  \n",
              "...                             ...                             ...  \n",
              "552403                            1                               0  \n",
              "552404                            1                               0  \n",
              "552405                            0                               1  \n",
              "552406                            0                               1  \n",
              "552407                            1                               0  \n",
              "\n",
              "[552408 rows x 7 columns]"
            ],
            "text/html": [
              "\n",
              "  <div id=\"df-a2d635de-4551-4b61-98eb-6db41ad4492c\">\n",
              "    <div class=\"colab-df-container\">\n",
              "      <div>\n",
              "<style scoped>\n",
              "    .dataframe tbody tr th:only-of-type {\n",
              "        vertical-align: middle;\n",
              "    }\n",
              "\n",
              "    .dataframe tbody tr th {\n",
              "        vertical-align: top;\n",
              "    }\n",
              "\n",
              "    .dataframe thead th {\n",
              "        text-align: right;\n",
              "    }\n",
              "</style>\n",
              "<table border=\"1\" class=\"dataframe\">\n",
              "  <thead>\n",
              "    <tr style=\"text-align: right;\">\n",
              "      <th></th>\n",
              "      <th>duration</th>\n",
              "      <th>start_station</th>\n",
              "      <th>end_station</th>\n",
              "      <th>Hour_start_time</th>\n",
              "      <th>Hour_end_time</th>\n",
              "      <th>trip_route_category_One Way</th>\n",
              "      <th>trip_route_category_Round Trip</th>\n",
              "    </tr>\n",
              "  </thead>\n",
              "  <tbody>\n",
              "    <tr>\n",
              "      <th>0</th>\n",
              "      <td>12</td>\n",
              "      <td>3028</td>\n",
              "      <td>3028</td>\n",
              "      <td>0</td>\n",
              "      <td>0</td>\n",
              "      <td>0</td>\n",
              "      <td>1</td>\n",
              "    </tr>\n",
              "    <tr>\n",
              "      <th>1</th>\n",
              "      <td>17</td>\n",
              "      <td>3027</td>\n",
              "      <td>3018</td>\n",
              "      <td>0</td>\n",
              "      <td>0</td>\n",
              "      <td>1</td>\n",
              "      <td>0</td>\n",
              "    </tr>\n",
              "    <tr>\n",
              "      <th>2</th>\n",
              "      <td>20</td>\n",
              "      <td>3066</td>\n",
              "      <td>3055</td>\n",
              "      <td>0</td>\n",
              "      <td>0</td>\n",
              "      <td>1</td>\n",
              "      <td>0</td>\n",
              "    </tr>\n",
              "    <tr>\n",
              "      <th>3</th>\n",
              "      <td>12</td>\n",
              "      <td>3029</td>\n",
              "      <td>3079</td>\n",
              "      <td>0</td>\n",
              "      <td>0</td>\n",
              "      <td>1</td>\n",
              "      <td>0</td>\n",
              "    </tr>\n",
              "    <tr>\n",
              "      <th>4</th>\n",
              "      <td>48</td>\n",
              "      <td>3063</td>\n",
              "      <td>3063</td>\n",
              "      <td>0</td>\n",
              "      <td>1</td>\n",
              "      <td>0</td>\n",
              "      <td>1</td>\n",
              "    </tr>\n",
              "    <tr>\n",
              "      <th>...</th>\n",
              "      <td>...</td>\n",
              "      <td>...</td>\n",
              "      <td>...</td>\n",
              "      <td>...</td>\n",
              "      <td>...</td>\n",
              "      <td>...</td>\n",
              "      <td>...</td>\n",
              "    </tr>\n",
              "    <tr>\n",
              "      <th>552403</th>\n",
              "      <td>19</td>\n",
              "      <td>3033</td>\n",
              "      <td>3011</td>\n",
              "      <td>23</td>\n",
              "      <td>23</td>\n",
              "      <td>1</td>\n",
              "      <td>0</td>\n",
              "    </tr>\n",
              "    <tr>\n",
              "      <th>552404</th>\n",
              "      <td>8</td>\n",
              "      <td>3031</td>\n",
              "      <td>3030</td>\n",
              "      <td>23</td>\n",
              "      <td>23</td>\n",
              "      <td>1</td>\n",
              "      <td>0</td>\n",
              "    </tr>\n",
              "    <tr>\n",
              "      <th>552405</th>\n",
              "      <td>43</td>\n",
              "      <td>3031</td>\n",
              "      <td>3031</td>\n",
              "      <td>23</td>\n",
              "      <td>0</td>\n",
              "      <td>0</td>\n",
              "      <td>1</td>\n",
              "    </tr>\n",
              "    <tr>\n",
              "      <th>552406</th>\n",
              "      <td>42</td>\n",
              "      <td>3031</td>\n",
              "      <td>3031</td>\n",
              "      <td>23</td>\n",
              "      <td>0</td>\n",
              "      <td>0</td>\n",
              "      <td>1</td>\n",
              "    </tr>\n",
              "    <tr>\n",
              "      <th>552407</th>\n",
              "      <td>1440</td>\n",
              "      <td>3030</td>\n",
              "      <td>4491</td>\n",
              "      <td>23</td>\n",
              "      <td>12</td>\n",
              "      <td>1</td>\n",
              "      <td>0</td>\n",
              "    </tr>\n",
              "  </tbody>\n",
              "</table>\n",
              "<p>552408 rows × 7 columns</p>\n",
              "</div>\n",
              "      <button class=\"colab-df-convert\" onclick=\"convertToInteractive('df-a2d635de-4551-4b61-98eb-6db41ad4492c')\"\n",
              "              title=\"Convert this dataframe to an interactive table.\"\n",
              "              style=\"display:none;\">\n",
              "        \n",
              "  <svg xmlns=\"http://www.w3.org/2000/svg\" height=\"24px\"viewBox=\"0 0 24 24\"\n",
              "       width=\"24px\">\n",
              "    <path d=\"M0 0h24v24H0V0z\" fill=\"none\"/>\n",
              "    <path d=\"M18.56 5.44l.94 2.06.94-2.06 2.06-.94-2.06-.94-.94-2.06-.94 2.06-2.06.94zm-11 1L8.5 8.5l.94-2.06 2.06-.94-2.06-.94L8.5 2.5l-.94 2.06-2.06.94zm10 10l.94 2.06.94-2.06 2.06-.94-2.06-.94-.94-2.06-.94 2.06-2.06.94z\"/><path d=\"M17.41 7.96l-1.37-1.37c-.4-.4-.92-.59-1.43-.59-.52 0-1.04.2-1.43.59L10.3 9.45l-7.72 7.72c-.78.78-.78 2.05 0 2.83L4 21.41c.39.39.9.59 1.41.59.51 0 1.02-.2 1.41-.59l7.78-7.78 2.81-2.81c.8-.78.8-2.07 0-2.86zM5.41 20L4 18.59l7.72-7.72 1.47 1.35L5.41 20z\"/>\n",
              "  </svg>\n",
              "      </button>\n",
              "      \n",
              "  <style>\n",
              "    .colab-df-container {\n",
              "      display:flex;\n",
              "      flex-wrap:wrap;\n",
              "      gap: 12px;\n",
              "    }\n",
              "\n",
              "    .colab-df-convert {\n",
              "      background-color: #E8F0FE;\n",
              "      border: none;\n",
              "      border-radius: 50%;\n",
              "      cursor: pointer;\n",
              "      display: none;\n",
              "      fill: #1967D2;\n",
              "      height: 32px;\n",
              "      padding: 0 0 0 0;\n",
              "      width: 32px;\n",
              "    }\n",
              "\n",
              "    .colab-df-convert:hover {\n",
              "      background-color: #E2EBFA;\n",
              "      box-shadow: 0px 1px 2px rgba(60, 64, 67, 0.3), 0px 1px 3px 1px rgba(60, 64, 67, 0.15);\n",
              "      fill: #174EA6;\n",
              "    }\n",
              "\n",
              "    [theme=dark] .colab-df-convert {\n",
              "      background-color: #3B4455;\n",
              "      fill: #D2E3FC;\n",
              "    }\n",
              "\n",
              "    [theme=dark] .colab-df-convert:hover {\n",
              "      background-color: #434B5C;\n",
              "      box-shadow: 0px 1px 3px 1px rgba(0, 0, 0, 0.15);\n",
              "      filter: drop-shadow(0px 1px 2px rgba(0, 0, 0, 0.3));\n",
              "      fill: #FFFFFF;\n",
              "    }\n",
              "  </style>\n",
              "\n",
              "      <script>\n",
              "        const buttonEl =\n",
              "          document.querySelector('#df-a2d635de-4551-4b61-98eb-6db41ad4492c button.colab-df-convert');\n",
              "        buttonEl.style.display =\n",
              "          google.colab.kernel.accessAllowed ? 'block' : 'none';\n",
              "\n",
              "        async function convertToInteractive(key) {\n",
              "          const element = document.querySelector('#df-a2d635de-4551-4b61-98eb-6db41ad4492c');\n",
              "          const dataTable =\n",
              "            await google.colab.kernel.invokeFunction('convertToInteractive',\n",
              "                                                     [key], {});\n",
              "          if (!dataTable) return;\n",
              "\n",
              "          const docLinkHtml = 'Like what you see? Visit the ' +\n",
              "            '<a target=\"_blank\" href=https://colab.research.google.com/notebooks/data_table.ipynb>data table notebook</a>'\n",
              "            + ' to learn more about interactive tables.';\n",
              "          element.innerHTML = '';\n",
              "          dataTable['output_type'] = 'display_data';\n",
              "          await google.colab.output.renderOutput(dataTable, element);\n",
              "          const docLink = document.createElement('div');\n",
              "          docLink.innerHTML = docLinkHtml;\n",
              "          element.appendChild(docLink);\n",
              "        }\n",
              "      </script>\n",
              "    </div>\n",
              "  </div>\n",
              "  "
            ]
          },
          "metadata": {},
          "execution_count": 25
        }
      ]
    },
    {
      "cell_type": "code",
      "source": [
        "#PREDECIR LOS RSULTADOS USANDO EL MODELO DE RANDOM FOREST QUE FUE EL ALGORITMO CON MEJOR DESEMPEÑO\n",
        "pred_Fin=rf.predict(df_testM)"
      ],
      "metadata": {
        "id": "0ByNNzNApsQE"
      },
      "execution_count": null,
      "outputs": []
    },
    {
      "cell_type": "code",
      "source": [
        "#GENERAR DOS VARIABLES: \n",
        "#UNA CONTIENE LA COLUMNA 'trip_id' \n",
        "#Y LA OTRA LOS RESULTADOS PREDECIDOS POR EL MODELO SEGUN EL TIPO DE 'passholder_type'\n",
        "rcol1=df_test['trip_id']\n",
        "rcol2 = pd.DataFrame(pred_Fin, columns = ['passholder_type'])\n",
        "rcol2=round(rcol2)"
      ],
      "metadata": {
        "id": "T1_QU_pLp10N"
      },
      "execution_count": null,
      "outputs": []
    },
    {
      "cell_type": "code",
      "source": [
        "#VISUALIZAR EL NUMERO DE VECES QUE EL MODELO PREDIJO CADA CATEGORIA DONDE SI RECORDAMOS CADA VALOR NUMERICO \n",
        "#DE LA IZQUIERDA REPRESENTA EL TIPO DE PASE DE LA SIGUEINTE MANERA\n",
        "#'Annual Pass'= 1\n",
        "#'Flex Pass'= 2\n",
        "#'Monthly Pass'= 3\n",
        "#'One Day Pass'= 4\n",
        "#'Testing'= 5\n",
        "#'Walk-up'= 6\n",
        "\n",
        "#POR LO QUE DE LA TABLA SE PUEDE CONCLUIR QUE EL TIPO DE PASE CON MAS DEMANDA ES EL 'Monthly_Pass' Y EL MENOS \n",
        "#DEMANDADO 'Testing'\n",
        "#SIENDO SIMILAR A CUANDO HICIMOS EL ANALISIS DE DATOS DONDE SE OBSERVA EL MISMO COMPORTAMIENTO O TENDENCIA\n",
        "\n",
        "sta2 = rcol2.pivot_table(columns=['passholder_type'], aggfunc='size')\n",
        "sta2"
      ],
      "metadata": {
        "colab": {
          "base_uri": "https://localhost:8080/"
        },
        "id": "5RfekOmtp5s0",
        "outputId": "7b1220f2-e169-443b-dda4-1b19bdbe82fd"
      },
      "execution_count": null,
      "outputs": [
        {
          "output_type": "execute_result",
          "data": {
            "text/plain": [
              "passholder_type\n",
              "1.0     14336\n",
              "2.0      3993\n",
              "3.0    360058\n",
              "4.0     17147\n",
              "5.0         4\n",
              "6.0    156870\n",
              "dtype: int64"
            ]
          },
          "metadata": {},
          "execution_count": 30
        }
      ]
    },
    {
      "cell_type": "code",
      "source": [
        "#CONCATENAR LAS VARIABLES rcol1 y rcol2 CORRESPONDENTES a 'trip_id' y 'passholder_type'\n",
        "Results=pd.concat([rcol1, rcol2], axis=1, ignore_index=True)"
      ],
      "metadata": {
        "id": "IkhjjyY-r09j"
      },
      "execution_count": null,
      "outputs": []
    },
    {
      "cell_type": "code",
      "source": [
        "#NOMBRAR LAS COLUMNAS DE LA NUEVA VARIABLE\n",
        "Results.columns = ['trip_id', 'passholder_type']\n",
        "\n",
        "Results.head(3)"
      ],
      "metadata": {
        "colab": {
          "base_uri": "https://localhost:8080/",
          "height": 143
        },
        "id": "aBWptiwOr8at",
        "outputId": "2da9fcf7-399d-4c93-9c2b-c2983abf2cdd"
      },
      "execution_count": null,
      "outputs": [
        {
          "output_type": "execute_result",
          "data": {
            "text/plain": [
              "    trip_id  passholder_type\n",
              "0  17059130              3.0\n",
              "1  17059129              6.0\n",
              "2  17059126              3.0"
            ],
            "text/html": [
              "\n",
              "  <div id=\"df-81c28dfb-cb1a-4bb6-a7e9-6bffa557040f\">\n",
              "    <div class=\"colab-df-container\">\n",
              "      <div>\n",
              "<style scoped>\n",
              "    .dataframe tbody tr th:only-of-type {\n",
              "        vertical-align: middle;\n",
              "    }\n",
              "\n",
              "    .dataframe tbody tr th {\n",
              "        vertical-align: top;\n",
              "    }\n",
              "\n",
              "    .dataframe thead th {\n",
              "        text-align: right;\n",
              "    }\n",
              "</style>\n",
              "<table border=\"1\" class=\"dataframe\">\n",
              "  <thead>\n",
              "    <tr style=\"text-align: right;\">\n",
              "      <th></th>\n",
              "      <th>trip_id</th>\n",
              "      <th>passholder_type</th>\n",
              "    </tr>\n",
              "  </thead>\n",
              "  <tbody>\n",
              "    <tr>\n",
              "      <th>0</th>\n",
              "      <td>17059130</td>\n",
              "      <td>3.0</td>\n",
              "    </tr>\n",
              "    <tr>\n",
              "      <th>1</th>\n",
              "      <td>17059129</td>\n",
              "      <td>6.0</td>\n",
              "    </tr>\n",
              "    <tr>\n",
              "      <th>2</th>\n",
              "      <td>17059126</td>\n",
              "      <td>3.0</td>\n",
              "    </tr>\n",
              "  </tbody>\n",
              "</table>\n",
              "</div>\n",
              "      <button class=\"colab-df-convert\" onclick=\"convertToInteractive('df-81c28dfb-cb1a-4bb6-a7e9-6bffa557040f')\"\n",
              "              title=\"Convert this dataframe to an interactive table.\"\n",
              "              style=\"display:none;\">\n",
              "        \n",
              "  <svg xmlns=\"http://www.w3.org/2000/svg\" height=\"24px\"viewBox=\"0 0 24 24\"\n",
              "       width=\"24px\">\n",
              "    <path d=\"M0 0h24v24H0V0z\" fill=\"none\"/>\n",
              "    <path d=\"M18.56 5.44l.94 2.06.94-2.06 2.06-.94-2.06-.94-.94-2.06-.94 2.06-2.06.94zm-11 1L8.5 8.5l.94-2.06 2.06-.94-2.06-.94L8.5 2.5l-.94 2.06-2.06.94zm10 10l.94 2.06.94-2.06 2.06-.94-2.06-.94-.94-2.06-.94 2.06-2.06.94z\"/><path d=\"M17.41 7.96l-1.37-1.37c-.4-.4-.92-.59-1.43-.59-.52 0-1.04.2-1.43.59L10.3 9.45l-7.72 7.72c-.78.78-.78 2.05 0 2.83L4 21.41c.39.39.9.59 1.41.59.51 0 1.02-.2 1.41-.59l7.78-7.78 2.81-2.81c.8-.78.8-2.07 0-2.86zM5.41 20L4 18.59l7.72-7.72 1.47 1.35L5.41 20z\"/>\n",
              "  </svg>\n",
              "      </button>\n",
              "      \n",
              "  <style>\n",
              "    .colab-df-container {\n",
              "      display:flex;\n",
              "      flex-wrap:wrap;\n",
              "      gap: 12px;\n",
              "    }\n",
              "\n",
              "    .colab-df-convert {\n",
              "      background-color: #E8F0FE;\n",
              "      border: none;\n",
              "      border-radius: 50%;\n",
              "      cursor: pointer;\n",
              "      display: none;\n",
              "      fill: #1967D2;\n",
              "      height: 32px;\n",
              "      padding: 0 0 0 0;\n",
              "      width: 32px;\n",
              "    }\n",
              "\n",
              "    .colab-df-convert:hover {\n",
              "      background-color: #E2EBFA;\n",
              "      box-shadow: 0px 1px 2px rgba(60, 64, 67, 0.3), 0px 1px 3px 1px rgba(60, 64, 67, 0.15);\n",
              "      fill: #174EA6;\n",
              "    }\n",
              "\n",
              "    [theme=dark] .colab-df-convert {\n",
              "      background-color: #3B4455;\n",
              "      fill: #D2E3FC;\n",
              "    }\n",
              "\n",
              "    [theme=dark] .colab-df-convert:hover {\n",
              "      background-color: #434B5C;\n",
              "      box-shadow: 0px 1px 3px 1px rgba(0, 0, 0, 0.15);\n",
              "      filter: drop-shadow(0px 1px 2px rgba(0, 0, 0, 0.3));\n",
              "      fill: #FFFFFF;\n",
              "    }\n",
              "  </style>\n",
              "\n",
              "      <script>\n",
              "        const buttonEl =\n",
              "          document.querySelector('#df-81c28dfb-cb1a-4bb6-a7e9-6bffa557040f button.colab-df-convert');\n",
              "        buttonEl.style.display =\n",
              "          google.colab.kernel.accessAllowed ? 'block' : 'none';\n",
              "\n",
              "        async function convertToInteractive(key) {\n",
              "          const element = document.querySelector('#df-81c28dfb-cb1a-4bb6-a7e9-6bffa557040f');\n",
              "          const dataTable =\n",
              "            await google.colab.kernel.invokeFunction('convertToInteractive',\n",
              "                                                     [key], {});\n",
              "          if (!dataTable) return;\n",
              "\n",
              "          const docLinkHtml = 'Like what you see? Visit the ' +\n",
              "            '<a target=\"_blank\" href=https://colab.research.google.com/notebooks/data_table.ipynb>data table notebook</a>'\n",
              "            + ' to learn more about interactive tables.';\n",
              "          element.innerHTML = '';\n",
              "          dataTable['output_type'] = 'display_data';\n",
              "          await google.colab.output.renderOutput(dataTable, element);\n",
              "          const docLink = document.createElement('div');\n",
              "          docLink.innerHTML = docLinkHtml;\n",
              "          element.appendChild(docLink);\n",
              "        }\n",
              "      </script>\n",
              "    </div>\n",
              "  </div>\n",
              "  "
            ]
          },
          "metadata": {},
          "execution_count": 33
        }
      ]
    },
    {
      "cell_type": "code",
      "source": [
        "#SUSTITUIR LOS VALORES NUMERICOS POR LA NOMENCLATURA INICIAL CORRESPONDIENTE A CADA TIPO DE PASE\n",
        "Results['passholder_type']=Results['passholder_type'].replace({1 : 'Annual Pass'})\n",
        "Results['passholder_type']=Results['passholder_type'].replace({2 : 'Flex Pass'})\n",
        "Results['passholder_type']=Results['passholder_type'].replace({3 : 'Monthly Pass'})\n",
        "Results['passholder_type']=Results['passholder_type'].replace({4 : 'One Day Pass'})\n",
        "Results['passholder_type']=Results['passholder_type'].replace({5 : 'Testing'})\n",
        "Results['passholder_type']=Results['passholder_type'].replace({6 : 'Walk-up'})"
      ],
      "metadata": {
        "id": "KP4fjozwr-rw"
      },
      "execution_count": null,
      "outputs": []
    },
    {
      "cell_type": "code",
      "source": [
        "Results.head(3)"
      ],
      "metadata": {
        "colab": {
          "base_uri": "https://localhost:8080/",
          "height": 143
        },
        "id": "zcGLHa1Lwhbk",
        "outputId": "ef44b20d-73a6-495b-9fcc-283f5f5fb3e7"
      },
      "execution_count": null,
      "outputs": [
        {
          "output_type": "execute_result",
          "data": {
            "text/plain": [
              "    trip_id passholder_type\n",
              "0  17059130    Monthly Pass\n",
              "1  17059129         Walk-up\n",
              "2  17059126    Monthly Pass"
            ],
            "text/html": [
              "\n",
              "  <div id=\"df-3f72104a-0518-4bad-8617-dd23bb67cd66\">\n",
              "    <div class=\"colab-df-container\">\n",
              "      <div>\n",
              "<style scoped>\n",
              "    .dataframe tbody tr th:only-of-type {\n",
              "        vertical-align: middle;\n",
              "    }\n",
              "\n",
              "    .dataframe tbody tr th {\n",
              "        vertical-align: top;\n",
              "    }\n",
              "\n",
              "    .dataframe thead th {\n",
              "        text-align: right;\n",
              "    }\n",
              "</style>\n",
              "<table border=\"1\" class=\"dataframe\">\n",
              "  <thead>\n",
              "    <tr style=\"text-align: right;\">\n",
              "      <th></th>\n",
              "      <th>trip_id</th>\n",
              "      <th>passholder_type</th>\n",
              "    </tr>\n",
              "  </thead>\n",
              "  <tbody>\n",
              "    <tr>\n",
              "      <th>0</th>\n",
              "      <td>17059130</td>\n",
              "      <td>Monthly Pass</td>\n",
              "    </tr>\n",
              "    <tr>\n",
              "      <th>1</th>\n",
              "      <td>17059129</td>\n",
              "      <td>Walk-up</td>\n",
              "    </tr>\n",
              "    <tr>\n",
              "      <th>2</th>\n",
              "      <td>17059126</td>\n",
              "      <td>Monthly Pass</td>\n",
              "    </tr>\n",
              "  </tbody>\n",
              "</table>\n",
              "</div>\n",
              "      <button class=\"colab-df-convert\" onclick=\"convertToInteractive('df-3f72104a-0518-4bad-8617-dd23bb67cd66')\"\n",
              "              title=\"Convert this dataframe to an interactive table.\"\n",
              "              style=\"display:none;\">\n",
              "        \n",
              "  <svg xmlns=\"http://www.w3.org/2000/svg\" height=\"24px\"viewBox=\"0 0 24 24\"\n",
              "       width=\"24px\">\n",
              "    <path d=\"M0 0h24v24H0V0z\" fill=\"none\"/>\n",
              "    <path d=\"M18.56 5.44l.94 2.06.94-2.06 2.06-.94-2.06-.94-.94-2.06-.94 2.06-2.06.94zm-11 1L8.5 8.5l.94-2.06 2.06-.94-2.06-.94L8.5 2.5l-.94 2.06-2.06.94zm10 10l.94 2.06.94-2.06 2.06-.94-2.06-.94-.94-2.06-.94 2.06-2.06.94z\"/><path d=\"M17.41 7.96l-1.37-1.37c-.4-.4-.92-.59-1.43-.59-.52 0-1.04.2-1.43.59L10.3 9.45l-7.72 7.72c-.78.78-.78 2.05 0 2.83L4 21.41c.39.39.9.59 1.41.59.51 0 1.02-.2 1.41-.59l7.78-7.78 2.81-2.81c.8-.78.8-2.07 0-2.86zM5.41 20L4 18.59l7.72-7.72 1.47 1.35L5.41 20z\"/>\n",
              "  </svg>\n",
              "      </button>\n",
              "      \n",
              "  <style>\n",
              "    .colab-df-container {\n",
              "      display:flex;\n",
              "      flex-wrap:wrap;\n",
              "      gap: 12px;\n",
              "    }\n",
              "\n",
              "    .colab-df-convert {\n",
              "      background-color: #E8F0FE;\n",
              "      border: none;\n",
              "      border-radius: 50%;\n",
              "      cursor: pointer;\n",
              "      display: none;\n",
              "      fill: #1967D2;\n",
              "      height: 32px;\n",
              "      padding: 0 0 0 0;\n",
              "      width: 32px;\n",
              "    }\n",
              "\n",
              "    .colab-df-convert:hover {\n",
              "      background-color: #E2EBFA;\n",
              "      box-shadow: 0px 1px 2px rgba(60, 64, 67, 0.3), 0px 1px 3px 1px rgba(60, 64, 67, 0.15);\n",
              "      fill: #174EA6;\n",
              "    }\n",
              "\n",
              "    [theme=dark] .colab-df-convert {\n",
              "      background-color: #3B4455;\n",
              "      fill: #D2E3FC;\n",
              "    }\n",
              "\n",
              "    [theme=dark] .colab-df-convert:hover {\n",
              "      background-color: #434B5C;\n",
              "      box-shadow: 0px 1px 3px 1px rgba(0, 0, 0, 0.15);\n",
              "      filter: drop-shadow(0px 1px 2px rgba(0, 0, 0, 0.3));\n",
              "      fill: #FFFFFF;\n",
              "    }\n",
              "  </style>\n",
              "\n",
              "      <script>\n",
              "        const buttonEl =\n",
              "          document.querySelector('#df-3f72104a-0518-4bad-8617-dd23bb67cd66 button.colab-df-convert');\n",
              "        buttonEl.style.display =\n",
              "          google.colab.kernel.accessAllowed ? 'block' : 'none';\n",
              "\n",
              "        async function convertToInteractive(key) {\n",
              "          const element = document.querySelector('#df-3f72104a-0518-4bad-8617-dd23bb67cd66');\n",
              "          const dataTable =\n",
              "            await google.colab.kernel.invokeFunction('convertToInteractive',\n",
              "                                                     [key], {});\n",
              "          if (!dataTable) return;\n",
              "\n",
              "          const docLinkHtml = 'Like what you see? Visit the ' +\n",
              "            '<a target=\"_blank\" href=https://colab.research.google.com/notebooks/data_table.ipynb>data table notebook</a>'\n",
              "            + ' to learn more about interactive tables.';\n",
              "          element.innerHTML = '';\n",
              "          dataTable['output_type'] = 'display_data';\n",
              "          await google.colab.output.renderOutput(dataTable, element);\n",
              "          const docLink = document.createElement('div');\n",
              "          docLink.innerHTML = docLinkHtml;\n",
              "          element.appendChild(docLink);\n",
              "        }\n",
              "      </script>\n",
              "    </div>\n",
              "  </div>\n",
              "  "
            ]
          },
          "metadata": {},
          "execution_count": 35
        }
      ]
    },
    {
      "cell_type": "code",
      "source": [
        "#GUARDAR LOS RESULTADOS EN EL ARCHIVO 'Submission.csv'\n",
        "Results.to_csv(\"Submission.csv\",index=False) "
      ],
      "metadata": {
        "id": "ZgOMHI71sALj"
      },
      "execution_count": null,
      "outputs": []
    },
    {
      "cell_type": "code",
      "source": [
        "#GUARDAR MODELO RANDOM FOREST\n",
        "import pickle\n",
        "import logging\n",
        "\n",
        "print(\"Mode score:\",rf.score(X_train,y_train))\n"
      ],
      "metadata": {
        "id": "STeA44CDIJjN",
        "colab": {
          "base_uri": "https://localhost:8080/"
        },
        "outputId": "828a8ed6-2bd3-4ec3-d18b-300f58bd5f3e"
      },
      "execution_count": 54,
      "outputs": [
        {
          "output_type": "stream",
          "name": "stdout",
          "text": [
            "Mode score: 0.9392032979343101\n"
          ]
        }
      ]
    },
    {
      "cell_type": "code",
      "source": [
        "pkl_filename = \"pickle_model.pkl\"\n",
        "with open(pkl_filename, 'wb') as file:\n",
        "    pickle.dump(rf, file)"
      ],
      "metadata": {
        "id": "FeFHo-p-_-CI"
      },
      "execution_count": 25,
      "outputs": []
    }
  ]
}